{
 "cells": [
  {
   "cell_type": "code",
   "execution_count": 1,
   "id": "eabbaba8-a698-413d-af19-335a8b300add",
   "metadata": {},
   "outputs": [],
   "source": [
    "from classifier import load_data, classify, test\n",
    "\n",
    "import numpy as np\n",
    "import matplotlib.pyplot as plt "
   ]
  },
  {
   "cell_type": "code",
   "execution_count": null,
   "id": "6de69d99-ffbf-41ab-a073-f7264523373f",
   "metadata": {},
   "outputs": [],
   "source": []
  },
  {
   "cell_type": "code",
   "execution_count": 2,
   "id": "fc409acc-0680-4e28-b152-6943638428ef",
   "metadata": {},
   "outputs": [],
   "source": [
    "X_train, X_test, y_train, y_test = load_data(0.4, 700000)"
   ]
  },
  {
   "cell_type": "code",
   "execution_count": 3,
   "id": "610e4f84-c97c-4f96-b4b4-a6936143a693",
   "metadata": {},
   "outputs": [
    {
     "data": {
      "text/plain": [
       "43.470454499998596"
      ]
     },
     "execution_count": 3,
     "metadata": {},
     "output_type": "execute_result"
    }
   ],
   "source": [
    "ab, t = classify(\"ab-custom\", X_train, y_train, metadata=5)\n",
    "t"
   ]
  },
  {
   "cell_type": "code",
   "execution_count": 4,
   "id": "39993876-ff5a-4e2f-a0a8-a0dc09eb2372",
   "metadata": {},
   "outputs": [
    {
     "data": {
      "text/plain": [
       "0.9379353506495344"
      ]
     },
     "execution_count": 4,
     "metadata": {},
     "output_type": "execute_result"
    }
   ],
   "source": [
    "test(ab, X_test, y_test, \"f2\")"
   ]
  },
  {
   "cell_type": "code",
   "execution_count": null,
   "id": "c6433caf-9710-4182-ade3-c25dbb20f521",
   "metadata": {},
   "outputs": [],
   "source": []
  },
  {
   "cell_type": "code",
   "execution_count": 5,
   "id": "8ab4bc3e-a854-4ab6-ad05-a48a04e54d5d",
   "metadata": {},
   "outputs": [
    {
     "ename": "ValueError",
     "evalue": "KNeighborsClassifier doesn't support sample_weight.",
     "output_type": "error",
     "traceback": [
      "\u001b[31m---------------------------------------------------------------------------\u001b[39m",
      "\u001b[31mValueError\u001b[39m                                Traceback (most recent call last)",
      "\u001b[36mCell\u001b[39m\u001b[36m \u001b[39m\u001b[32mIn[5]\u001b[39m\u001b[32m, line 1\u001b[39m\n\u001b[32m----> \u001b[39m\u001b[32m1\u001b[39m abk, t = \u001b[43mclassify\u001b[49m\u001b[43m(\u001b[49m\u001b[33;43m\"\u001b[39;49m\u001b[33;43mab-knn\u001b[39;49m\u001b[33;43m\"\u001b[39;49m\u001b[43m,\u001b[49m\u001b[43m \u001b[49m\u001b[43mX_train\u001b[49m\u001b[43m,\u001b[49m\u001b[43m \u001b[49m\u001b[43my_train\u001b[49m\u001b[43m,\u001b[49m\u001b[43m \u001b[49m\u001b[43mmetadata\u001b[49m\u001b[43m=\u001b[49m\u001b[32;43m3\u001b[39;49m\u001b[43m)\u001b[49m\n\u001b[32m      2\u001b[39m t\n",
      "\u001b[36mFile \u001b[39m\u001b[32m~/CS656/CS656-NetFlow/classifier.py:72\u001b[39m, in \u001b[36mclassify\u001b[39m\u001b[34m(cf_name, X_train, y_train, metadata)\u001b[39m\n\u001b[32m     70\u001b[39m cf = get_classifier(cf_name, metadata)\n\u001b[32m     71\u001b[39m t = time.monotonic()\n\u001b[32m---> \u001b[39m\u001b[32m72\u001b[39m \u001b[43mcf\u001b[49m\u001b[43m.\u001b[49m\u001b[43mfit\u001b[49m\u001b[43m(\u001b[49m\u001b[43mX_train\u001b[49m\u001b[43m,\u001b[49m\u001b[43m \u001b[49m\u001b[43my_train\u001b[49m\u001b[43m)\u001b[49m\n\u001b[32m     73\u001b[39m \u001b[38;5;28;01mreturn\u001b[39;00m cf, time.monotonic() - t\n",
      "\u001b[36mFile \u001b[39m\u001b[32m/opt/homebrew/lib/python3.13/site-packages/sklearn/base.py:1363\u001b[39m, in \u001b[36m_fit_context.<locals>.decorator.<locals>.wrapper\u001b[39m\u001b[34m(estimator, *args, **kwargs)\u001b[39m\n\u001b[32m   1356\u001b[39m     estimator._validate_params()\n\u001b[32m   1358\u001b[39m \u001b[38;5;28;01mwith\u001b[39;00m config_context(\n\u001b[32m   1359\u001b[39m     skip_parameter_validation=(\n\u001b[32m   1360\u001b[39m         prefer_skip_nested_validation \u001b[38;5;129;01mor\u001b[39;00m global_skip_validation\n\u001b[32m   1361\u001b[39m     )\n\u001b[32m   1362\u001b[39m ):\n\u001b[32m-> \u001b[39m\u001b[32m1363\u001b[39m     \u001b[38;5;28;01mreturn\u001b[39;00m \u001b[43mfit_method\u001b[49m\u001b[43m(\u001b[49m\u001b[43mestimator\u001b[49m\u001b[43m,\u001b[49m\u001b[43m \u001b[49m\u001b[43m*\u001b[49m\u001b[43margs\u001b[49m\u001b[43m,\u001b[49m\u001b[43m \u001b[49m\u001b[43m*\u001b[49m\u001b[43m*\u001b[49m\u001b[43mkwargs\u001b[49m\u001b[43m)\u001b[49m\n",
      "\u001b[36mFile \u001b[39m\u001b[32m/opt/homebrew/lib/python3.13/site-packages/sklearn/ensemble/_weight_boosting.py:147\u001b[39m, in \u001b[36mBaseWeightBoosting.fit\u001b[39m\u001b[34m(self, X, y, sample_weight)\u001b[39m\n\u001b[32m    144\u001b[39m sample_weight /= sample_weight.sum()\n\u001b[32m    146\u001b[39m \u001b[38;5;66;03m# Check parameters\u001b[39;00m\n\u001b[32m--> \u001b[39m\u001b[32m147\u001b[39m \u001b[38;5;28;43mself\u001b[39;49m\u001b[43m.\u001b[49m\u001b[43m_validate_estimator\u001b[49m\u001b[43m(\u001b[49m\u001b[43m)\u001b[49m\n\u001b[32m    149\u001b[39m \u001b[38;5;66;03m# Clear any previous fit results\u001b[39;00m\n\u001b[32m    150\u001b[39m \u001b[38;5;28mself\u001b[39m.estimators_ = []\n",
      "\u001b[36mFile \u001b[39m\u001b[32m/opt/homebrew/lib/python3.13/site-packages/sklearn/ensemble/_weight_boosting.py:526\u001b[39m, in \u001b[36mAdaBoostClassifier._validate_estimator\u001b[39m\u001b[34m(self)\u001b[39m\n\u001b[32m    519\u001b[39m     warnings.warn(\n\u001b[32m    520\u001b[39m         \u001b[33m\"\u001b[39m\u001b[33mThe parameter \u001b[39m\u001b[33m'\u001b[39m\u001b[33malgorithm\u001b[39m\u001b[33m'\u001b[39m\u001b[33m is deprecated in 1.6 and has no effect. \u001b[39m\u001b[33m\"\u001b[39m\n\u001b[32m    521\u001b[39m         \u001b[33m\"\u001b[39m\u001b[33mIt will be removed in version 1.8.\u001b[39m\u001b[33m\"\u001b[39m,\n\u001b[32m    522\u001b[39m         \u001b[38;5;167;01mFutureWarning\u001b[39;00m,\n\u001b[32m    523\u001b[39m     )\n\u001b[32m    525\u001b[39m \u001b[38;5;28;01mif\u001b[39;00m \u001b[38;5;129;01mnot\u001b[39;00m has_fit_parameter(\u001b[38;5;28mself\u001b[39m.estimator_, \u001b[33m\"\u001b[39m\u001b[33msample_weight\u001b[39m\u001b[33m\"\u001b[39m):\n\u001b[32m--> \u001b[39m\u001b[32m526\u001b[39m     \u001b[38;5;28;01mraise\u001b[39;00m \u001b[38;5;167;01mValueError\u001b[39;00m(\n\u001b[32m    527\u001b[39m         \u001b[33mf\u001b[39m\u001b[33m\"\u001b[39m\u001b[38;5;132;01m{\u001b[39;00m\u001b[38;5;28mself\u001b[39m.estimator.\u001b[34m__class__\u001b[39m.\u001b[34m__name__\u001b[39m\u001b[38;5;132;01m}\u001b[39;00m\u001b[33m doesn\u001b[39m\u001b[33m'\u001b[39m\u001b[33mt support sample_weight.\u001b[39m\u001b[33m\"\u001b[39m\n\u001b[32m    528\u001b[39m     )\n",
      "\u001b[31mValueError\u001b[39m: KNeighborsClassifier doesn't support sample_weight."
     ]
    }
   ],
   "source": [
    "abk, t = classify(\"ab-knn\", X_train, y_train, metadata=3)\n",
    "t"
   ]
  },
  {
   "cell_type": "code",
   "execution_count": null,
   "id": "9edd7f3a-2645-4298-b798-dee9cd7baf7b",
   "metadata": {},
   "outputs": [],
   "source": [
    "test(abk, X_test, y_test, \"f2\")"
   ]
  },
  {
   "cell_type": "code",
   "execution_count": null,
   "id": "7d1db481-6d72-4b2c-ae62-2dd69ffdce03",
   "metadata": {},
   "outputs": [],
   "source": []
  },
  {
   "cell_type": "code",
   "execution_count": null,
   "id": "949b195b-2bf9-45ec-9a0c-6dda1fb7e407",
   "metadata": {},
   "outputs": [],
   "source": [
    "dt, t = classify(\"dt\", X_train, y_train)\n",
    "t"
   ]
  },
  {
   "cell_type": "code",
   "execution_count": null,
   "id": "2172fd89-d006-41bc-9646-046e07d630b0",
   "metadata": {},
   "outputs": [],
   "source": [
    "test(dt, X_test, y_test, \"f2\")"
   ]
  },
  {
   "cell_type": "code",
   "execution_count": null,
   "id": "a09f1a7d-04b2-45ea-8191-f7606f17db00",
   "metadata": {},
   "outputs": [],
   "source": []
  }
 ],
 "metadata": {
  "kernelspec": {
   "display_name": "Python 3 (ipykernel)",
   "language": "python",
   "name": "python3"
  },
  "language_info": {
   "codemirror_mode": {
    "name": "ipython",
    "version": 3
   },
   "file_extension": ".py",
   "mimetype": "text/x-python",
   "name": "python",
   "nbconvert_exporter": "python",
   "pygments_lexer": "ipython3",
   "version": "3.13.5"
  }
 },
 "nbformat": 4,
 "nbformat_minor": 5
}
