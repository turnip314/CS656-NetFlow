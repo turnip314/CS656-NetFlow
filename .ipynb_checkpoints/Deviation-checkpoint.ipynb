{
 "cells": [
  {
   "cell_type": "code",
   "execution_count": 1,
   "id": "e6e5c077-9a6e-4e81-aa5f-61a1d4d62a12",
   "metadata": {},
   "outputs": [],
   "source": [
    "from classifier import load_data, classify, test\n",
    "\n",
    "import statistics"
   ]
  },
  {
   "cell_type": "markdown",
   "id": "3c7137b4-2c9e-45e7-b262-0de3c197b1af",
   "metadata": {},
   "source": [
    "RF Learner"
   ]
  },
  {
   "cell_type": "code",
   "execution_count": 2,
   "id": "2b533057-2a28-41fd-9b89-c64da9467f02",
   "metadata": {},
   "outputs": [
    {
     "name": "stdout",
     "output_type": "stream",
     "text": [
      "0.9784524943717476\n"
     ]
    }
   ],
   "source": [
    "results = []\n",
    "for _ in range(20):\n",
    "    X_train, X_test, y_train, y_test = load_data(0.4, 700000, randomize=True)\n",
    "    cf, t = classify(\"rf\", X_train, y_train)\n",
    "    F2 = test(cf, X_test, y_test, \"f2\")\n",
    "    results.append(F2)\n",
    "print(statistics.mean(results))"
   ]
  },
  {
   "cell_type": "code",
   "execution_count": 3,
   "id": "22746499-78d0-4c7f-a3a7-7c638e56c0cd",
   "metadata": {},
   "outputs": [],
   "source": [
    "std_dev = statistics.stdev(results)"
   ]
  },
  {
   "cell_type": "code",
   "execution_count": 4,
   "id": "37b22c18-af84-4e8c-a9e5-f4cb25dec8c2",
   "metadata": {},
   "outputs": [
    {
     "name": "stdout",
     "output_type": "stream",
     "text": [
      "0.00048796028604649846\n"
     ]
    }
   ],
   "source": [
    "print(std_dev)"
   ]
  },
  {
   "cell_type": "code",
   "execution_count": null,
   "id": "0a38e4d8-5e64-4d4e-94a3-22279b1ad1e2",
   "metadata": {},
   "outputs": [],
   "source": []
  },
  {
   "cell_type": "markdown",
   "id": "ad6561fb-5717-48f3-bc67-de5f66015fb2",
   "metadata": {},
   "source": [
    "DT Learner"
   ]
  },
  {
   "cell_type": "code",
   "execution_count": 5,
   "id": "6bee6aec-80dd-41f0-b1dd-ea6cfdb9e8ab",
   "metadata": {},
   "outputs": [
    {
     "name": "stdout",
     "output_type": "stream",
     "text": [
      "0.9723988652442543\n"
     ]
    }
   ],
   "source": [
    "results = []\n",
    "for _ in range(20):\n",
    "    X_train, X_test, y_train, y_test = load_data(0.4, 700000, randomize=True)\n",
    "    cf, t = classify(\"dt\", X_train, y_train)\n",
    "    F2 = test(cf, X_test, y_test, \"f2\")\n",
    "    results.append(F2)\n",
    "print(statistics.mean(results))"
   ]
  },
  {
   "cell_type": "code",
   "execution_count": 6,
   "id": "e2aae431-b758-4fb3-aaf8-39851e0dee99",
   "metadata": {},
   "outputs": [],
   "source": [
    "std_dev = statistics.stdev(results)"
   ]
  },
  {
   "cell_type": "code",
   "execution_count": 7,
   "id": "b7bfc5e1-2f32-4aae-9a85-acb6b7080028",
   "metadata": {},
   "outputs": [
    {
     "name": "stdout",
     "output_type": "stream",
     "text": [
      "0.00047056239254650447\n"
     ]
    }
   ],
   "source": [
    "print(std_dev)"
   ]
  },
  {
   "cell_type": "code",
   "execution_count": null,
   "id": "85254c68-21db-491c-94c3-124d9798ab98",
   "metadata": {},
   "outputs": [],
   "source": []
  },
  {
   "cell_type": "markdown",
   "id": "3ff95b23-4190-46b8-9080-c5c1a7ed039c",
   "metadata": {},
   "source": [
    "KNN Learner"
   ]
  },
  {
   "cell_type": "code",
   "execution_count": 8,
   "id": "cb164657-1d87-49fa-a62d-882696e647ca",
   "metadata": {},
   "outputs": [
    {
     "name": "stdout",
     "output_type": "stream",
     "text": [
      "0.9041244795167773\n"
     ]
    }
   ],
   "source": [
    "results = []\n",
    "for _ in range(20):\n",
    "    X_train, X_test, y_train, y_test = load_data(0.4, 700000, randomize=True)\n",
    "    cf, t = classify(\"knn\", X_train, y_train)\n",
    "    F2 = test(cf, X_test, y_test, \"f2\")\n",
    "    results.append(F2)\n",
    "print(statistics.mean(results))"
   ]
  },
  {
   "cell_type": "code",
   "execution_count": 9,
   "id": "1d893e70-6c25-4b69-ad06-62125d939d63",
   "metadata": {},
   "outputs": [],
   "source": [
    "std_dev = statistics.stdev(results)"
   ]
  },
  {
   "cell_type": "code",
   "execution_count": 10,
   "id": "fa0d3d81-27ff-4db3-b1d3-9d6155396ce6",
   "metadata": {},
   "outputs": [
    {
     "name": "stdout",
     "output_type": "stream",
     "text": [
      "0.0011307668743456342\n"
     ]
    }
   ],
   "source": [
    "print(std_dev)"
   ]
  },
  {
   "cell_type": "code",
   "execution_count": null,
   "id": "84d5a6a9-2412-480a-82ee-77b70f78b23c",
   "metadata": {},
   "outputs": [],
   "source": []
  },
  {
   "cell_type": "markdown",
   "id": "fe1771a7-49dd-4055-a230-c0010a2e0f59",
   "metadata": {},
   "source": [
    "AB Learner"
   ]
  },
  {
   "cell_type": "code",
   "execution_count": 11,
   "id": "2b488225-ebe6-4d22-ac6f-2e01f4a3f9c7",
   "metadata": {},
   "outputs": [
    {
     "name": "stdout",
     "output_type": "stream",
     "text": [
      "0.8765749187312085\n"
     ]
    }
   ],
   "source": [
    "results = []\n",
    "for _ in range(20):\n",
    "    X_train, X_test, y_train, y_test = load_data(0.4, 700000, randomize=True)\n",
    "    cf, t = classify(\"ab\", X_train, y_train)\n",
    "    F2 = test(cf, X_test, y_test, \"f2\")\n",
    "    results.append(F2)\n",
    "print(statistics.mean(results))"
   ]
  },
  {
   "cell_type": "code",
   "execution_count": 12,
   "id": "89a648eb-90d6-4b7b-b4ba-6c552b0e0c57",
   "metadata": {},
   "outputs": [],
   "source": [
    "std_dev = statistics.stdev(results)"
   ]
  },
  {
   "cell_type": "code",
   "execution_count": 13,
   "id": "8e4773df-c772-4f64-ab65-68fad542ae85",
   "metadata": {},
   "outputs": [
    {
     "name": "stdout",
     "output_type": "stream",
     "text": [
      "0.01916836797633529\n"
     ]
    }
   ],
   "source": [
    "print(std_dev)"
   ]
  },
  {
   "cell_type": "code",
   "execution_count": null,
   "id": "5a8508cf-0ef9-49d2-8184-bd119f714780",
   "metadata": {},
   "outputs": [],
   "source": []
  },
  {
   "cell_type": "code",
   "execution_count": 14,
   "id": "99563100-b582-4fc5-b601-ba19768d4d30",
   "metadata": {},
   "outputs": [
    {
     "ename": "NameError",
     "evalue": "name 'plt' is not defined",
     "output_type": "error",
     "traceback": [
      "\u001b[31m---------------------------------------------------------------------------\u001b[39m",
      "\u001b[31mNameError\u001b[39m                                 Traceback (most recent call last)",
      "\u001b[36mCell\u001b[39m\u001b[36m \u001b[39m\u001b[32mIn[14]\u001b[39m\u001b[32m, line 1\u001b[39m\n\u001b[32m----> \u001b[39m\u001b[32m1\u001b[39m \u001b[43mplt\u001b[49m.errorbar(\n\u001b[32m      2\u001b[39m     [\u001b[33m'\u001b[39m\u001b[33mRF\u001b[39m\u001b[33m'\u001b[39m, \u001b[33m'\u001b[39m\u001b[33mDT\u001b[39m\u001b[33m'\u001b[39m, \u001b[33m'\u001b[39m\u001b[33mKNN\u001b[39m\u001b[33m'\u001b[39m, \u001b[33m'\u001b[39m\u001b[33mAB\u001b[39m\u001b[33m'\u001b[39m], \n\u001b[32m      3\u001b[39m     [\u001b[32m0.9784524943717476\u001b[39m,\u001b[32m0.9723988652442543\u001b[39m,\u001b[32m9041244795167773\u001b[39m,\u001b[32m0.8765749187312085\u001b[39m], \n\u001b[32m      4\u001b[39m     yerr=[\u001b[32m0.00048796028604649846\u001b[39m,\u001b[32m0.00047056239254650447\u001b[39m,\u001b[32m0.0011307668743456342\u001b[39m,\u001b[32m0.01916836797633529\u001b[39m]\n\u001b[32m      5\u001b[39m )\n\u001b[32m      6\u001b[39m plt.title(\u001b[33m\"\u001b[39m\u001b[33mStandard Deviation of Results\u001b[39m\u001b[33m\"\u001b[39m)\n",
      "\u001b[31mNameError\u001b[39m: name 'plt' is not defined"
     ]
    }
   ],
   "source": [
    "plt.errorbar(\n",
    "    ['RF', 'DT', 'KNN', 'AB'], \n",
    "    [0.9784524943717476,0.9723988652442543,9041244795167773,0.8765749187312085], \n",
    "    yerr=[0.00048796028604649846,0.00047056239254650447,0.0011307668743456342,0.01916836797633529]\n",
    ")\n",
    "plt.title(\"Standard Deviation of Results\")"
   ]
  },
  {
   "cell_type": "code",
   "execution_count": null,
   "id": "f47838cd-e561-4960-abbb-2490904bbdbb",
   "metadata": {},
   "outputs": [],
   "source": []
  }
 ],
 "metadata": {
  "kernelspec": {
   "display_name": "Python 3 (ipykernel)",
   "language": "python",
   "name": "python3"
  },
  "language_info": {
   "codemirror_mode": {
    "name": "ipython",
    "version": 3
   },
   "file_extension": ".py",
   "mimetype": "text/x-python",
   "name": "python",
   "nbconvert_exporter": "python",
   "pygments_lexer": "ipython3",
   "version": "3.13.5"
  }
 },
 "nbformat": 4,
 "nbformat_minor": 5
}
