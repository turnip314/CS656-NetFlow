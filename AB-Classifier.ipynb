{
 "cells": [
  {
   "cell_type": "code",
   "execution_count": 1,
   "id": "eabbaba8-a698-413d-af19-335a8b300add",
   "metadata": {},
   "outputs": [],
   "source": [
    "from classifier import load_data, classify, test\n",
    "\n",
    "import numpy as np\n",
    "import matplotlib.pyplot as plt "
   ]
  },
  {
   "cell_type": "code",
   "execution_count": null,
   "id": "6de69d99-ffbf-41ab-a073-f7264523373f",
   "metadata": {},
   "outputs": [],
   "source": []
  },
  {
   "cell_type": "code",
   "execution_count": 2,
   "id": "fc409acc-0680-4e28-b152-6943638428ef",
   "metadata": {},
   "outputs": [],
   "source": [
    "X_train, X_test, y_train, y_test = load_data(0.4, 700000)"
   ]
  },
  {
   "cell_type": "code",
   "execution_count": 6,
   "id": "610e4f84-c97c-4f96-b4b4-a6936143a693",
   "metadata": {},
   "outputs": [
    {
     "data": {
      "text/plain": [
       "98.38684208301129"
      ]
     },
     "execution_count": 6,
     "metadata": {},
     "output_type": "execute_result"
    }
   ],
   "source": [
    "ab, t = classify(\"ab-custom\", X_train, y_train, metadata=5)\n",
    "t"
   ]
  },
  {
   "cell_type": "code",
   "execution_count": 7,
   "id": "39993876-ff5a-4e2f-a0a8-a0dc09eb2372",
   "metadata": {},
   "outputs": [
    {
     "data": {
      "text/plain": [
       "0.9776861678800105"
      ]
     },
     "execution_count": 7,
     "metadata": {},
     "output_type": "execute_result"
    }
   ],
   "source": [
    "test(ab, X_test, y_test, \"f2\")"
   ]
  },
  {
   "cell_type": "code",
   "execution_count": null,
   "id": "c6433caf-9710-4182-ade3-c25dbb20f521",
   "metadata": {},
   "outputs": [],
   "source": []
  },
  {
   "cell_type": "code",
   "execution_count": null,
   "id": "7d1db481-6d72-4b2c-ae62-2dd69ffdce03",
   "metadata": {},
   "outputs": [],
   "source": []
  },
  {
   "cell_type": "code",
   "execution_count": 8,
   "id": "949b195b-2bf9-45ec-9a0c-6dda1fb7e407",
   "metadata": {},
   "outputs": [
    {
     "data": {
      "text/plain": [
       "1.186574166000355"
      ]
     },
     "execution_count": 8,
     "metadata": {},
     "output_type": "execute_result"
    }
   ],
   "source": [
    "dt, t = classify(\"dt\", X_train, y_train)\n",
    "t"
   ]
  },
  {
   "cell_type": "code",
   "execution_count": 9,
   "id": "2172fd89-d006-41bc-9646-046e07d630b0",
   "metadata": {},
   "outputs": [
    {
     "data": {
      "text/plain": [
       "0.9729524425797693"
      ]
     },
     "execution_count": 9,
     "metadata": {},
     "output_type": "execute_result"
    }
   ],
   "source": [
    "test(dt, X_test, y_test, \"f2\")"
   ]
  },
  {
   "cell_type": "code",
   "execution_count": null,
   "id": "a09f1a7d-04b2-45ea-8191-f7606f17db00",
   "metadata": {},
   "outputs": [],
   "source": []
  }
 ],
 "metadata": {
  "kernelspec": {
   "display_name": "Python 3 (ipykernel)",
   "language": "python",
   "name": "python3"
  },
  "language_info": {
   "codemirror_mode": {
    "name": "ipython",
    "version": 3
   },
   "file_extension": ".py",
   "mimetype": "text/x-python",
   "name": "python",
   "nbconvert_exporter": "python",
   "pygments_lexer": "ipython3",
   "version": "3.13.5"
  }
 },
 "nbformat": 4,
 "nbformat_minor": 5
}
