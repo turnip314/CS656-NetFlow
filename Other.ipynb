{
 "cells": [
  {
   "cell_type": "code",
   "execution_count": 15,
   "id": "b14484e2-259b-4988-918b-f89f593803a9",
   "metadata": {},
   "outputs": [],
   "source": [
    "from classifier import load_data, classify, test\n",
    "\n",
    "import numpy as np\n",
    "import matplotlib.pyplot as plt"
   ]
  },
  {
   "cell_type": "code",
   "execution_count": 16,
   "id": "17bdc3b1-5a43-4946-bd6f-4d03eedcbb17",
   "metadata": {},
   "outputs": [
    {
     "data": {
      "text/plain": [
       "array([ 1,  3,  5,  7,  9, 11, 13, 15, 17, 19, 21, 23, 25])"
      ]
     },
     "execution_count": 16,
     "metadata": {},
     "output_type": "execute_result"
    }
   ],
   "source": [
    "sizes = np.arange(1, 26, 2)\n",
    "sizes"
   ]
  },
  {
   "cell_type": "code",
   "execution_count": 17,
   "id": "7fcae07f-14b6-4764-acb8-d50257a9bb26",
   "metadata": {},
   "outputs": [
    {
     "name": "stdout",
     "output_type": "stream",
     "text": [
      "1.0743737090379\n",
      "0.9736615384615385\n"
     ]
    }
   ],
   "source": [
    "X_train, X_test, y_train, y_test = load_data(0.4, 700000, randomize=True)\n",
    "cf, t = classify(\"dt\", X_train, y_train)\n",
    "F2 = test(cf, X_test, y_test, \"f2\")\n",
    "print(t)\n",
    "print(F2)"
   ]
  },
  {
   "cell_type": "code",
   "execution_count": null,
   "id": "59e6a53a-034d-451b-bdc5-283a32e5890b",
   "metadata": {},
   "outputs": [],
   "source": []
  },
  {
   "cell_type": "code",
   "execution_count": 18,
   "id": "da249974-ed0b-45f2-b4b1-7aeb94a5f1bc",
   "metadata": {},
   "outputs": [
    {
     "name": "stdout",
     "output_type": "stream",
     "text": [
      "5.361650292004924\n",
      "0.9674680851394948\n"
     ]
    }
   ],
   "source": [
    "X_train, X_test, y_train, y_test = load_data(0.4, 700000, randomize=True, downscale=False)\n",
    "cf, t = classify(\"dt\", X_train, y_train)\n",
    "F2 = test(cf, X_test, y_test, \"f2\")\n",
    "print(t)\n",
    "print(F2)"
   ]
  },
  {
   "cell_type": "code",
   "execution_count": null,
   "id": "b13bacba-f2ab-4332-9a2a-5f459d1a83ed",
   "metadata": {},
   "outputs": [],
   "source": []
  },
  {
   "cell_type": "code",
   "execution_count": 19,
   "id": "62a54cec-7577-43b2-9a41-b4564d4f4b13",
   "metadata": {},
   "outputs": [
    {
     "data": {
      "text/html": [
       "<div>\n",
       "<style scoped>\n",
       "    .dataframe tbody tr th:only-of-type {\n",
       "        vertical-align: middle;\n",
       "    }\n",
       "\n",
       "    .dataframe tbody tr th {\n",
       "        vertical-align: top;\n",
       "    }\n",
       "\n",
       "    .dataframe thead th {\n",
       "        text-align: right;\n",
       "    }\n",
       "</style>\n",
       "<table border=\"1\" class=\"dataframe\">\n",
       "  <thead>\n",
       "    <tr style=\"text-align: right;\">\n",
       "      <th></th>\n",
       "      <th>sport</th>\n",
       "      <th>dsport</th>\n",
       "      <th>proto</th>\n",
       "      <th>state</th>\n",
       "      <th>dur</th>\n",
       "      <th>sbytes</th>\n",
       "      <th>spkts</th>\n",
       "    </tr>\n",
       "  </thead>\n",
       "  <tbody>\n",
       "    <tr>\n",
       "      <th>2267668</th>\n",
       "      <td>49135.0</td>\n",
       "      <td>111.0</td>\n",
       "      <td>120</td>\n",
       "      <td>2</td>\n",
       "      <td>0.451354</td>\n",
       "      <td>568</td>\n",
       "      <td>4</td>\n",
       "    </tr>\n",
       "    <tr>\n",
       "      <th>1040593</th>\n",
       "      <td>58561.0</td>\n",
       "      <td>14203.0</td>\n",
       "      <td>114</td>\n",
       "      <td>5</td>\n",
       "      <td>0.032960</td>\n",
       "      <td>3598</td>\n",
       "      <td>60</td>\n",
       "    </tr>\n",
       "    <tr>\n",
       "      <th>2128794</th>\n",
       "      <td>12933.0</td>\n",
       "      <td>111.0</td>\n",
       "      <td>120</td>\n",
       "      <td>2</td>\n",
       "      <td>0.160404</td>\n",
       "      <td>568</td>\n",
       "      <td>4</td>\n",
       "    </tr>\n",
       "    <tr>\n",
       "      <th>2488326</th>\n",
       "      <td>3084.0</td>\n",
       "      <td>5190.0</td>\n",
       "      <td>114</td>\n",
       "      <td>5</td>\n",
       "      <td>0.005957</td>\n",
       "      <td>2054</td>\n",
       "      <td>22</td>\n",
       "    </tr>\n",
       "    <tr>\n",
       "      <th>1238338</th>\n",
       "      <td>55848.0</td>\n",
       "      <td>53.0</td>\n",
       "      <td>120</td>\n",
       "      <td>2</td>\n",
       "      <td>0.001080</td>\n",
       "      <td>146</td>\n",
       "      <td>2</td>\n",
       "    </tr>\n",
       "    <tr>\n",
       "      <th>...</th>\n",
       "      <td>...</td>\n",
       "      <td>...</td>\n",
       "      <td>...</td>\n",
       "      <td>...</td>\n",
       "      <td>...</td>\n",
       "      <td>...</td>\n",
       "      <td>...</td>\n",
       "    </tr>\n",
       "    <tr>\n",
       "      <th>1790622</th>\n",
       "      <td>19664.0</td>\n",
       "      <td>53.0</td>\n",
       "      <td>120</td>\n",
       "      <td>2</td>\n",
       "      <td>0.001116</td>\n",
       "      <td>130</td>\n",
       "      <td>2</td>\n",
       "    </tr>\n",
       "    <tr>\n",
       "      <th>966628</th>\n",
       "      <td>1307.0</td>\n",
       "      <td>80.0</td>\n",
       "      <td>114</td>\n",
       "      <td>5</td>\n",
       "      <td>1.115124</td>\n",
       "      <td>1580</td>\n",
       "      <td>12</td>\n",
       "    </tr>\n",
       "    <tr>\n",
       "      <th>2067610</th>\n",
       "      <td>52055.0</td>\n",
       "      <td>80.0</td>\n",
       "      <td>114</td>\n",
       "      <td>5</td>\n",
       "      <td>2.713727</td>\n",
       "      <td>19514</td>\n",
       "      <td>366</td>\n",
       "    </tr>\n",
       "    <tr>\n",
       "      <th>970875</th>\n",
       "      <td>11840.0</td>\n",
       "      <td>5190.0</td>\n",
       "      <td>114</td>\n",
       "      <td>5</td>\n",
       "      <td>0.719806</td>\n",
       "      <td>1920</td>\n",
       "      <td>22</td>\n",
       "    </tr>\n",
       "    <tr>\n",
       "      <th>1752340</th>\n",
       "      <td>3966.0</td>\n",
       "      <td>53.0</td>\n",
       "      <td>120</td>\n",
       "      <td>2</td>\n",
       "      <td>0.001042</td>\n",
       "      <td>130</td>\n",
       "      <td>2</td>\n",
       "    </tr>\n",
       "  </tbody>\n",
       "</table>\n",
       "<p>1523843 rows × 7 columns</p>\n",
       "</div>"
      ],
      "text/plain": [
       "           sport   dsport  proto  state       dur  sbytes  spkts\n",
       "2267668  49135.0    111.0    120      2  0.451354     568      4\n",
       "1040593  58561.0  14203.0    114      5  0.032960    3598     60\n",
       "2128794  12933.0    111.0    120      2  0.160404     568      4\n",
       "2488326   3084.0   5190.0    114      5  0.005957    2054     22\n",
       "1238338  55848.0     53.0    120      2  0.001080     146      2\n",
       "...          ...      ...    ...    ...       ...     ...    ...\n",
       "1790622  19664.0     53.0    120      2  0.001116     130      2\n",
       "966628    1307.0     80.0    114      5  1.115124    1580     12\n",
       "2067610  52055.0     80.0    114      5  2.713727   19514    366\n",
       "970875   11840.0   5190.0    114      5  0.719806    1920     22\n",
       "1752340   3966.0     53.0    120      2  0.001042     130      2\n",
       "\n",
       "[1523843 rows x 7 columns]"
      ]
     },
     "execution_count": 19,
     "metadata": {},
     "output_type": "execute_result"
    }
   ],
   "source": [
    "\n",
    "X_train"
   ]
  },
  {
   "cell_type": "code",
   "execution_count": null,
   "id": "b40da903-8372-45c5-9b22-69d4ebf07d3e",
   "metadata": {},
   "outputs": [],
   "source": []
  },
  {
   "cell_type": "code",
   "execution_count": 47,
   "id": "cf96b172-189c-436c-81ec-39b89abe12a7",
   "metadata": {},
   "outputs": [],
   "source": [
    "# 80/20\n",
    "a = 0.5130679024303021 + 0.4846751579002542 + 0.0750682253268706 + 0.972207563764292 + 0.9792101398871629 + 0.8628983981132211 + 0.9098201679953224"
   ]
  },
  {
   "cell_type": "code",
   "execution_count": 48,
   "id": "833aa90a-0dae-4291-9e1c-cac766a252a4",
   "metadata": {},
   "outputs": [],
   "source": [
    "# 70/30\n",
    "b = 0.5031352568221097 + 0.08342650974606065 + 0.0751455129875771 + 0.9724215562121852 + 0.9791090917607382 + 0.8631011054425858 + 0.9071619551461982"
   ]
  },
  {
   "cell_type": "code",
   "execution_count": 49,
   "id": "b5f37250-4ad3-448b-8f68-2df6a8d86347",
   "metadata": {},
   "outputs": [],
   "source": [
    "# 67/33\n",
    "c = 0.48961970755128764 + 0.667205557511925 + 0.07377332411886663 + 0.9731088566786495 + 0.9797468462216394 + 0.8628376606346708 + 0.907107299330055"
   ]
  },
  {
   "cell_type": "code",
   "execution_count": 50,
   "id": "c8feb616-8c5b-48b4-876e-bf0c14d44f99",
   "metadata": {},
   "outputs": [],
   "source": [
    "#60/40\n",
    "d = 0.49504950495049505 + 0.6784671320072716 + 0.07346327446774738 + 0.9728142364774566 + 0.9791463933026759 + 0.8525625981622227 + 0.9045624484461536"
   ]
  },
  {
   "cell_type": "code",
   "execution_count": 51,
   "id": "7e9c9966-5303-4037-842e-4e14e9b0b678",
   "metadata": {},
   "outputs": [],
   "source": [
    "e = 0.07067861803931831 + 0.09221537485868696 + 0.07634258205119865 + 0.9718547706163805 + 0.9787541978726095 + 0.8622560122336512 + 0.9003279794805514"
   ]
  },
  {
   "cell_type": "code",
   "execution_count": 52,
   "id": "b9dfdf8a-54d5-4b0c-bf6c-b9e800b1c735",
   "metadata": {},
   "outputs": [
    {
     "data": {
      "text/plain": [
       "Text(0.5, 1.0, 'Average F2-score over all models (LE)')"
      ]
     },
     "execution_count": 52,
     "metadata": {},
     "output_type": "execute_result"
    },
    {
     "data": {
      "image/png": "[encoded data removed]",
      "text/plain": [
       "<Figure size 640x480 with 1 Axes>"
      ]
     },
     "metadata": {},
     "output_type": "display_data"
    }
   ],
   "source": [
    "plt.bar(['80/20','70/30','67/33','60/40','50/50'], [a/7-0.5,b/7-0.5,c/7-0.5,d/7-0.5,e/7-0.5], width=0.4, bottom=0.5)\n",
    "plt.title(\"Average F2-score over all models (LE)\")"
   ]
  },
  {
   "cell_type": "code",
   "execution_count": null,
   "id": "54ef22fa-195f-409a-972a-aa93f17fb8d5",
   "metadata": {},
   "outputs": [],
   "source": []
  },
  {
   "cell_type": "code",
   "execution_count": 53,
   "id": "afe9e75f-a790-4cf0-99ee-c0e9820a2fdf",
   "metadata": {},
   "outputs": [],
   "source": [
    "# 80/20\n",
    "a = 0.972207563764292 + 0.9792101398871629 + 0.8628983981132211 + 0.9098201679953224"
   ]
  },
  {
   "cell_type": "code",
   "execution_count": 54,
   "id": "e47fbbfd-d621-4f40-b932-9a248155fafd",
   "metadata": {},
   "outputs": [],
   "source": [
    "# 70/30\n",
    "b =  0.9724215562121852 + 0.9791090917607382 + 0.8631011054425858 + 0.9071619551461982"
   ]
  },
  {
   "cell_type": "code",
   "execution_count": 55,
   "id": "e6dd6ef2-5f06-4d64-a1cd-a4b0f6ca5310",
   "metadata": {},
   "outputs": [],
   "source": [
    "# 67/33\n",
    "c =  0.9731088566786495 + 0.9797468462216394 + 0.8628376606346708 + 0.907107299330055"
   ]
  },
  {
   "cell_type": "code",
   "execution_count": 56,
   "id": "37ce349a-9df8-4d74-8f9a-034294a3caef",
   "metadata": {},
   "outputs": [],
   "source": [
    "#60/40\n",
    "d =   0.9728142364774566 + 0.9791463933026759 + 0.8525625981622227 + 0.9045624484461536"
   ]
  },
  {
   "cell_type": "code",
   "execution_count": 57,
   "id": "87bc3959-343e-424a-9dcb-52f7d009b9c9",
   "metadata": {},
   "outputs": [],
   "source": [
    "e =  0.9718547706163805 + 0.9787541978726095 + 0.8622560122336512 + 0.9003279794805514"
   ]
  },
  {
   "cell_type": "code",
   "execution_count": 58,
   "id": "9fce678c-70a6-4d3c-ac2d-c1f3847d8796",
   "metadata": {},
   "outputs": [
    {
     "data": {
      "text/plain": [
       "Text(0.5, 1.0, 'Average F2-score over RF, DT, KNN, AB (LE)')"
      ]
     },
     "execution_count": 58,
     "metadata": {},
     "output_type": "execute_result"
    },
    {
     "data": {
      "image/png": "[encoded data removed]",
      "text/plain": [
       "<Figure size 640x480 with 1 Axes>"
      ]
     },
     "metadata": {},
     "output_type": "display_data"
    }
   ],
   "source": [
    "plt.bar(['80/20','70/30','67/33','60/40','50/50'], [a/4-0.8,b/4-0.8,c/4-0.8,d/4-0.8,e/4-0.8], width=0.4, bottom=0.8)\n",
    "plt.title(\"Average F2-score over RF, DT, KNN, AB (LE)\")"
   ]
  },
  {
   "cell_type": "code",
   "execution_count": null,
   "id": "a4b2c9e7-c629-45d8-b571-183cdf2ebc8d",
   "metadata": {},
   "outputs": [],
   "source": []
  }
 ],
 "metadata": {
  "kernelspec": {
   "display_name": "Python 3 (ipykernel)",
   "language": "python",
   "name": "python3"
  },
  "language_info": {
   "codemirror_mode": {
    "name": "ipython",
    "version": 3
   },
   "file_extension": ".py",
   "mimetype": "text/x-python",
   "name": "python",
   "nbconvert_exporter": "python",
   "pygments_lexer": "ipython3",
   "version": "3.13.5"
  }
 },
 "nbformat": 4,
 "nbformat_minor": 5
}
